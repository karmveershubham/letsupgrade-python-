{
 "cells": [
  {
   "cell_type": "markdown",
   "metadata": {},
   "source": [
    "# File Handling\n"
   ]
  },
  {
   "cell_type": "code",
   "execution_count": 15,
   "metadata": {},
   "outputs": [
    {
     "name": "stdout",
     "output_type": "stream",
     "text": [
      "I guide others to the Treasure That I canno't posses.\n",
      "Checking Python Code. Definitely not.\n"
     ]
    }
   ],
   "source": [
    "f=open('C:/Users/avita/Desktop/File1.txt','r')\n",
    "str=f.read()\n",
    "print(str)"
   ]
  },
  {
   "cell_type": "code",
   "execution_count": 12,
   "metadata": {},
   "outputs": [],
   "source": [
    "f.close()"
   ]
  },
  {
   "cell_type": "code",
   "execution_count": 16,
   "metadata": {},
   "outputs": [],
   "source": [
    "f=open('C:/Users/avita/Desktop/File1.txt','w')\n",
    "f.write(\"let it go\\ndon't let it go until you want.\")\n",
    "f.close()\n"
   ]
  },
  {
   "cell_type": "code",
   "execution_count": 17,
   "metadata": {},
   "outputs": [
    {
     "name": "stdout",
     "output_type": "stream",
     "text": [
      "let it go\n",
      "don't let it go until you want.\n"
     ]
    }
   ],
   "source": [
    "f=open('C:/Users/avita/Desktop/File1.txt','r')\n",
    "str=f.read()\n",
    "print(str)"
   ]
  },
  {
   "cell_type": "code",
   "execution_count": 28,
   "metadata": {},
   "outputs": [],
   "source": [
    "import Dictionary\n",
    "def f_hand():\n",
    "    f=open('C:/Users/avita/Desktop/File1.txt','r')\n",
    "    str=f.read()\n",
    "    print('the file contains foloowing data:',str)\n",
    "    Dictionary.Dict(str)\n",
    "    f.close()"
   ]
  },
  {
   "cell_type": "code",
   "execution_count": 29,
   "metadata": {},
   "outputs": [
    {
     "name": "stdout",
     "output_type": "stream",
     "text": [
      "the file contains foloowing data: I guide others to the Treasure That I canno't posses.\n",
      "Checking Python Code. Definitely not\n",
      "Dictionary with count of each vowels in strings. {'a': 3, 'e': 10, 'i': 4, 'o': 7, 'u': 2}\n"
     ]
    }
   ],
   "source": [
    "f_hand()"
   ]
  },
  {
   "cell_type": "code",
   "execution_count": 33,
   "metadata": {},
   "outputs": [
    {
     "data": {
      "text/plain": [
       "\"I guide others to the Treasure That I can't posses.\\n\""
      ]
     },
     "execution_count": 33,
     "metadata": {},
     "output_type": "execute_result"
    }
   ],
   "source": [
    "f=open('C:/Users/avita/Desktop/File1.txt','r')\n",
    "f.readline()\n"
   ]
  },
  {
   "cell_type": "code",
   "execution_count": 34,
   "metadata": {},
   "outputs": [
    {
     "data": {
      "text/plain": [
       "'Checking Python Code. Definitely not'"
      ]
     },
     "execution_count": 34,
     "metadata": {},
     "output_type": "execute_result"
    }
   ],
   "source": [
    "f.readline()"
   ]
  },
  {
   "cell_type": "code",
   "execution_count": 36,
   "metadata": {},
   "outputs": [
    {
     "name": "stdout",
     "output_type": "stream",
     "text": [
      "[\"I guide others to the Treasure That I can't posses.\\n\", 'Checking Python Code. Definitely not']\n"
     ]
    }
   ],
   "source": [
    "with open('C:/Users/avita/Desktop/File1.txt','r') as f:\n",
    "    print(f.readlines())"
   ]
  },
  {
   "cell_type": "code",
   "execution_count": 39,
   "metadata": {},
   "outputs": [],
   "source": [
    "Departments=['Computer science','Mathematics','Physics','Botany','English']\n",
    "with open('C:/Users/avita/Desktop/File1.txt','w') as f:\n",
    "    for d in Departments:\n",
    "        f.write(d+'\\n')"
   ]
  },
  {
   "cell_type": "code",
   "execution_count": 40,
   "metadata": {},
   "outputs": [
    {
     "name": "stdout",
     "output_type": "stream",
     "text": [
      "['Computer science\\n', 'Mathematics\\n', 'Physics\\n', 'Botany\\n', 'English\\n']\n"
     ]
    }
   ],
   "source": [
    "with open('C:/Users/avita/Desktop/File1.txt','r') as f:\n",
    "    print(f.readlines())"
   ]
  },
  {
   "cell_type": "code",
   "execution_count": 42,
   "metadata": {},
   "outputs": [
    {
     "name": "stdout",
     "output_type": "stream",
     "text": [
      "Computer science\n",
      "\n",
      "Mathematics\n",
      "\n",
      "Physics\n",
      "\n",
      "Botany\n",
      "\n",
      "English\n",
      "\n"
     ]
    }
   ],
   "source": [
    "with open('C:/Users/avita/Desktop/File1.txt','r') as f:\n",
    "    for line in f:\n",
    "        print(line)"
   ]
  },
  {
   "cell_type": "code",
   "execution_count": 46,
   "metadata": {},
   "outputs": [
    {
     "name": "stdout",
     "output_type": "stream",
     "text": [
      "['Computer science', 'Mathematics', 'Physics', 'Botany', 'English']\n"
     ]
    }
   ],
   "source": [
    "with open('C:/Users/avita/Desktop/File1.txt','r') as f:\n",
    "    departments=[]\n",
    "    \n",
    "    for line in f:\n",
    "        line=line.replace('\\n','')\n",
    "        departments.append(line)\n",
    "        \n",
    "    print(departments)\n",
    "        "
   ]
  },
  {
   "cell_type": "markdown",
   "metadata": {},
   "source": [
    "# Csv files\n"
   ]
  },
  {
   "cell_type": "code",
   "execution_count": 2,
   "metadata": {},
   "outputs": [],
   "source": [
    "#Comma separated files CSV "
   ]
  },
  {
   "cell_type": "code",
   "execution_count": 4,
   "metadata": {},
   "outputs": [],
   "source": [
    "import csv\n",
    "student_marks=[['Rajat','80'],['Sakshi','90'],['Teena','77'],['Rohit','54'],['kajal','90'],['varun','60']]\n",
    "with open('students.csv','w',newline=\"\") as file:\n",
    "    writer1=csv.writer(file)\n",
    "    writer1.writerows(student_marks)"
   ]
  },
  {
   "cell_type": "code",
   "execution_count": 25,
   "metadata": {},
   "outputs": [
    {
     "name": "stdout",
     "output_type": "stream",
     "text": [
      "Enter the details of student name with Total marks[['Rajat','80'],['Sakshi','90'],['Teena','77'],['Rohit','54'],['kajal','90'],['varun','60']]\n",
      "Details of Every Third students.\n",
      "['NAME','MARKS']\n",
      "['Rajat', '80']\n",
      "['Rohit', '54']\n"
     ]
    }
   ],
   "source": [
    "import csv\n",
    "def csv_write(S_marks):\n",
    "    with open('studentsmarks.csv','w',newline=\"\") as file:\n",
    "        writer1=csv.writer(file)\n",
    "        writer1.writerows(S_marks)\n",
    "        \n",
    "def csv_read():\n",
    "    print(\"Details of Every Third students.\\n['NAME','MARKS']\")\n",
    "    k=0\n",
    "    with open('studentsmarks.csv') as file:\n",
    "        data=csv.reader(file)\n",
    "        for row in data:\n",
    "            \n",
    "            if k%3==0:\n",
    "                print(row)\n",
    "            k+=1\n",
    "def main():\n",
    "    S_marks=eval(input('Enter the details of student name with Total marks'))\n",
    "    csv_write(S_marks)\n",
    "    csv_read()\n",
    "if __name__=='__main__':\n",
    "    main()\n",
    "    "
   ]
  },
  {
   "cell_type": "code",
   "execution_count": null,
   "metadata": {},
   "outputs": [],
   "source": []
  }
 ],
 "metadata": {
  "kernelspec": {
   "display_name": "Python 3",
   "language": "python",
   "name": "python3"
  },
  "language_info": {
   "codemirror_mode": {
    "name": "ipython",
    "version": 3
   },
   "file_extension": ".py",
   "mimetype": "text/x-python",
   "name": "python",
   "nbconvert_exporter": "python",
   "pygments_lexer": "ipython3",
   "version": "3.8.5"
  }
 },
 "nbformat": 4,
 "nbformat_minor": 4
}
