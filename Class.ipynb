{
 "cells": [
  {
   "cell_type": "code",
   "execution_count": 1,
   "metadata": {},
   "outputs": [
    {
     "name": "stdout",
     "output_type": "stream",
     "text": [
      "Area of desk: 1200\n",
      "Perimeter of Desk: 140\n"
     ]
    }
   ],
   "source": [
    "class rectangle:    #liang or murach\n",
    "    def __init__(self,length,breadth):\n",
    "        self.breadth=breadth\n",
    "        self.length=length\n",
    "        \n",
    "    def area(self):\n",
    "        return self.breadth*self.length\n",
    "    def perimeter(self):\n",
    "        return 2*(self.breadth+self.length)\n",
    "    \n",
    "def main():   #test_rectagle.py\n",
    "    desk_obj=rectangle(30,40)\n",
    "    print('Area of desk:',desk_obj.area())\n",
    "    print('Perimeter of Desk:',desk_obj.perimeter())\n",
    "    \n",
    "if __name__=='__main__':\n",
    "    main()\n",
    "        "
   ]
  },
  {
   "cell_type": "code",
   "execution_count": 3,
   "metadata": {},
   "outputs": [
    {
     "name": "stdout",
     "output_type": "stream",
     "text": [
      "1 2 4 5 7 8 10 11 13 14 16 17 "
     ]
    }
   ],
   "source": [
    "for num in range (1,20):\n",
    "    if num%3==0:\n",
    "        continue\n",
    "    if num >17:\n",
    "        break\n",
    "    print(num,end=' ')"
   ]
  },
  {
   "cell_type": "code",
   "execution_count": 4,
   "metadata": {},
   "outputs": [
    {
     "name": "stdout",
     "output_type": "stream",
     "text": [
      "10 8 6 4 2 "
     ]
    }
   ],
   "source": [
    "for num in range(10,0,-2):\n",
    "    print(num,end=' ')"
   ]
  },
  {
   "cell_type": "code",
   "execution_count": 5,
   "metadata": {},
   "outputs": [
    {
     "name": "stdout",
     "output_type": "stream",
     "text": [
      "1 1\n",
      "1 0\n",
      "2 2\n",
      "2 1\n",
      "2 0\n",
      "3 3\n",
      "3 2\n",
      "3 1\n",
      "3 0\n"
     ]
    }
   ],
   "source": [
    "for i in range(1,4):\n",
    "    for j in range (i,-1,-1):\n",
    "        print(i,j)"
   ]
  },
  {
   "cell_type": "code",
   "execution_count": 26,
   "metadata": {},
   "outputs": [],
   "source": [
    "def isPrime(n):\n",
    "    if n==1:\n",
    "        return False\n",
    "    for i in range(2,n):\n",
    "        if n%i==0:\n",
    "            return False\n",
    "    return True"
   ]
  },
  {
   "cell_type": "code",
   "execution_count": 12,
   "metadata": {},
   "outputs": [
    {
     "name": "stdout",
     "output_type": "stream",
     "text": [
      "pto#pormig\n"
     ]
    }
   ],
   "source": [
    "messege='python programming'\n",
    "a=messege[0:6:2]+'#'+messege[7::2]\n",
    "print(a)"
   ]
  },
  {
   "cell_type": "code",
   "execution_count": 15,
   "metadata": {},
   "outputs": [
    {
     "name": "stdout",
     "output_type": "stream",
     "text": [
      "1\n",
      "2\n",
      "3\n"
     ]
    }
   ],
   "source": [
    "def  compute(number):\n",
    "    count=0\n",
    "    while(number>0):\n",
    "        count+=1\n",
    "        number//=10\n",
    "    return count\n",
    "def guesswhatamidoing(n):\n",
    "    for i in range (1,n,50):\n",
    "        print(compute(i))\n",
    "        \n",
    "guesswhatamidoing(120)      "
   ]
  },
  {
   "cell_type": "code",
   "execution_count": 22,
   "metadata": {},
   "outputs": [
    {
     "ename": "TypeError",
     "evalue": "multiplynumbers() missing 1 required positional argument: 'a'",
     "output_type": "error",
     "traceback": [
      "\u001b[1;31m---------------------------------------------------------------------------\u001b[0m",
      "\u001b[1;31mTypeError\u001b[0m                                 Traceback (most recent call last)",
      "\u001b[1;32m<ipython-input-22-9062b6639da4>\u001b[0m in \u001b[0;36m<module>\u001b[1;34m\u001b[0m\n\u001b[0;32m      3\u001b[0m \u001b[1;31m#multiplynumbers(6,3)\u001b[0m\u001b[1;33m\u001b[0m\u001b[1;33m\u001b[0m\u001b[1;33m\u001b[0m\u001b[0m\n\u001b[0;32m      4\u001b[0m \u001b[1;31m#multiplynumbers(5)\u001b[0m\u001b[1;33m\u001b[0m\u001b[1;33m\u001b[0m\u001b[1;33m\u001b[0m\u001b[0m\n\u001b[1;32m----> 5\u001b[1;33m \u001b[0mmultiplynumbers\u001b[0m\u001b[1;33m(\u001b[0m\u001b[0mb\u001b[0m\u001b[1;33m=\u001b[0m\u001b[1;36m5\u001b[0m\u001b[1;33m)\u001b[0m\u001b[1;33m\u001b[0m\u001b[1;33m\u001b[0m\u001b[0m\n\u001b[0m",
      "\u001b[1;31mTypeError\u001b[0m: multiplynumbers() missing 1 required positional argument: 'a'"
     ]
    }
   ],
   "source": [
    "def multiplynumbers(a,b=1):\n",
    "    return a*b\n",
    "#multiplynumbers(6,3)\n",
    "#multiplynumbers(5)\n",
    "multiplynumbers(b=5)"
   ]
  },
  {
   "cell_type": "code",
   "execution_count": 2,
   "metadata": {},
   "outputs": [
    {
     "name": "stdout",
     "output_type": "stream",
     "text": [
      "Enter the length of rectangle.10\n",
      "Enter the bradth of the rectangle.20\n",
      "1985105662544\n",
      "1985105662448\n",
      "1985105663024\n",
      "1985105662544\n",
      "Area of desk: 200\n",
      "Perimeter of Desk: 60\n",
      "number of rectangle objects: 3\n",
      "Deleted!!\n",
      "Deleted!!\n",
      "Deleted!!\n"
     ]
    }
   ],
   "source": [
    "class rectangle:    #liang or murach\n",
    "    count=0\n",
    "    def __init__(self,length,breadth):\n",
    "        self.breadth=breadth\n",
    "        self.length=length\n",
    "        rectangle.count+=1\n",
    "        \n",
    "    def area(self):\n",
    "        return self.breadth*self.length\n",
    "    def perimeter(self):\n",
    "        return 2*(self.breadth+self.length)\n",
    "    def __del__(self): #destructor\n",
    "        rectangle.count-=1\n",
    "        print('Deleted!!')\n",
    "        \n",
    "def main(): #test_rectagle.py\n",
    "    a= int (input('Enter the length of rectangle.'))\n",
    "    b=int(input('Enter the bradth of the rectangle.'))\n",
    "    obj = rectangle(a,b)\n",
    "    obj1 = rectangle(2*a, 2*b)\n",
    "    obj2 = rectangle(2,10)\n",
    "    obj3=obj\n",
    "    print(id(obj))\n",
    "    print(id(obj1))\n",
    "    print(id(obj2))\n",
    "    print(id(obj3))\n",
    "    print('Area of desk:',obj.area())\n",
    "    print('Perimeter of Desk:',obj.perimeter())\n",
    "    print('number of rectangle objects:',rectangle.count)\n",
    "\n",
    "if __name__=='__main__':\n",
    "    main()"
   ]
  },
  {
   "cell_type": "code",
   "execution_count": 1,
   "metadata": {},
   "outputs": [
    {
     "name": "stdout",
     "output_type": "stream",
     "text": [
      "Enter the number of students:1\n",
      "Enter the name of student:Oggy\n",
      "Enter the score  of 3 subjects in a list.[90,90,90]\n",
      "Avrage marks of Oggy is: 90\n",
      "\n",
      "Maximum Average score of the class is: ('The Maximum Average of class is:', 90.0)\n",
      "Deleted!! by Destructor!!\n"
     ]
    }
   ],
   "source": [
    "class Students:\n",
    "    MaxAvg=0\n",
    "    def __init__(self,name,m1=0,m2=0,m3=0):\n",
    "        self.name=name\n",
    "        self.score1=m1\n",
    "        self.score2=m2\n",
    "        self.score3=m3\n",
    "    \n",
    "        if ((m1+m2+m3)/3)>Students.MaxAvg:\n",
    "            Students.MaxAvg=round((m1+m2+m3)/3,2)\n",
    "    \n",
    "    def Display_Avg(self):\n",
    "        return round((self.score1+self.score2+self.score3)/3)\n",
    "        \n",
    "    def Display_Maxavg(self):\n",
    "        return Students.MaxAvg\n",
    "    \n",
    "    def __del__(self): #destructor\n",
    "        print('Deleted!! by Destructor!!')\n",
    "    \n",
    "def main():\n",
    "    students=int(input('Enter the number of students:'))\n",
    "    for i in range (students):\n",
    "        name=input('Enter the name of student:')\n",
    "        score=eval(input('Enter the score  of 3 subjects in a list.'))\n",
    "        S1=Students(name,score[0],score[1],score[2])\n",
    "        print('Avrage marks of',name,'is:',S1.Display_Avg())\n",
    "        print('')\n",
    "    print('Maximum Average score of the class is:',S1.Display_Maxavg())\n",
    "if __name__=='__main__':\n",
    "    main()  \n",
    "\n",
    "    \n",
    "    "
   ]
  },
  {
   "cell_type": "code",
   "execution_count": null,
   "metadata": {},
   "outputs": [],
   "source": []
  }
 ],
 "metadata": {
  "kernelspec": {
   "display_name": "Python 3",
   "language": "python",
   "name": "python3"
  },
  "language_info": {
   "codemirror_mode": {
    "name": "ipython",
    "version": 3
   },
   "file_extension": ".py",
   "mimetype": "text/x-python",
   "name": "python",
   "nbconvert_exporter": "python",
   "pygments_lexer": "ipython3",
   "version": "3.8.5"
  }
 },
 "nbformat": 4,
 "nbformat_minor": 4
}
