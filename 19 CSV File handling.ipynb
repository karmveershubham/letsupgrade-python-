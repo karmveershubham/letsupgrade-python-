{
 "cells": [
  {
   "cell_type": "code",
   "execution_count": 1,
   "metadata": {},
   "outputs": [
    {
     "name": "stdout",
     "output_type": "stream",
     "text": [
      "Enter the details of student name with Total marks[['Rajat','80'],['Sakshi','90'],['Teena','77'],['Rohit','54'],['kajal','90'],['varun','60']]\n",
      "Details of Every Third students.\n",
      "['NAME','MARKS']\n",
      "['Rajat', '80']\n",
      "['Rohit', '54']\n"
     ]
    }
   ],
   "source": [
    "import csv\n",
    "def csv_write(S_marks):#Create a csv file to maintain a records contaning name and marks.\n",
    "    with open('studentsmarks.csv','w',newline=\"\") as file:\n",
    "        writer1=csv.writer(file)\n",
    "        writer1.writerows(S_marks)\n",
    "        \n",
    "def csv_read(): #Read the file created and display the details of every third student.\n",
    "    print(\"Details of Every Third students.\\n['NAME','MARKS']\")\n",
    "    k=0\n",
    "    with open('studentsmarks.csv') as file:\n",
    "        data=csv.reader(file)\n",
    "        for row in data:\n",
    "            \n",
    "            if k%3==0:\n",
    "                print(row)\n",
    "            k+=1\n",
    "def main():\n",
    "    S_marks=eval(input('Enter the details of student name with Total marks'))\n",
    "    csv_write(S_marks)\n",
    "    csv_read()\n",
    "if __name__=='__main__':\n",
    "    main()\n",
    "    "
   ]
  },
  {
   "cell_type": "code",
   "execution_count": null,
   "metadata": {},
   "outputs": [],
   "source": []
  }
 ],
 "metadata": {
  "kernelspec": {
   "display_name": "Python 3",
   "language": "python",
   "name": "python3"
  },
  "language_info": {
   "codemirror_mode": {
    "name": "ipython",
    "version": 3
   },
   "file_extension": ".py",
   "mimetype": "text/x-python",
   "name": "python",
   "nbconvert_exporter": "python",
   "pygments_lexer": "ipython3",
   "version": "3.8.5"
  }
 },
 "nbformat": 4,
 "nbformat_minor": 4
}
